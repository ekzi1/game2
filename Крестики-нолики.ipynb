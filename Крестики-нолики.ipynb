{
 "cells": [
  {
   "cell_type": "code",
   "execution_count": null,
   "id": "3d3af4a7",
   "metadata": {
    "scrolled": false
   },
   "outputs": [
    {
     "name": "stdout",
     "output_type": "stream",
     "text": [
      "1 2 3\n",
      "4 5 6\n",
      "7 8 9\n",
      "Куда ставить крестик: 1\n",
      "X 2 3\n",
      "4 5 6\n",
      "7 8 9\n"
     ]
    }
   ],
   "source": [
    "a1,a2,a3,a4,a5,a6,a7,a8,a9 = 1,2,3,4,5,6,7,8,9\n",
    "a = [[a1,a2,a3],[a4,a5,a6],[a7,a8,a9]]\n",
    "def pr(a):\n",
    "    print(*a[0])\n",
    "    print(*a[1])\n",
    "    print(*a[2])\n",
    "pr(a)\n",
    "def eX(a,e):\n",
    "    f = True\n",
    "    for i in range(3):\n",
    "        for j in range(3):\n",
    "            if a[i][j] == e:\n",
    "                a[i][j] = 'X'\n",
    "                f = False\n",
    "    if f:\n",
    "        print('Ячейка занята')\n",
    "    return f\n",
    "def eO(a,e):\n",
    "    f = True\n",
    "    for i in range(3):\n",
    "        for j in range(3):\n",
    "            if a[i][j] == e:\n",
    "                a[i][j] = 'O'\n",
    "                f = False\n",
    "    if f:\n",
    "        print('Ячейка занята')\n",
    "    return f\n",
    "    \n",
    "def win(a):\n",
    "    if a[0][0]==a[0][1]==a[0][2] or \\\n",
    "    a[1][0]==a[1][1]==a[1][2] or \\\n",
    "    a[2][0]==a[2][1]==a[2][2] or \\\n",
    "    a[0][0]==a[1][0]==a[2][0] or \\\n",
    "    a[0][1]==a[1][1]==a[2][1] or \\\n",
    "    a[0][2]==a[1][2]==a[2][2] or \\\n",
    "    a[0][0]==a[1][1]==a[2][2] or \\\n",
    "    a[0][2]==a[1][1]==a[2][0]:\n",
    "        return True\n",
    "    return False\n",
    "k = 0\n",
    "while not win(a):\n",
    "    if k%2==0:\n",
    "        e = input('Куда ставить крестик: ')\n",
    "        if e in '123456789':\n",
    "            check = eX(a,int(e))\n",
    "            pr(a)\n",
    "        else:\n",
    "            print('Ошибка ввода')\n",
    "            break\n",
    "    else:\n",
    "        e = input('Куда ставить нолик: ')\n",
    "        if e in '123456789':\n",
    "            check = eO(a,int(e))\n",
    "            pr(a)\n",
    "        else:\n",
    "            print('Ошибка ввода')\n",
    "            break\n",
    "    if not check:\n",
    "        k+=1\n",
    "print('УРААА ПОБЕДА!')\n",
    "\n",
    "            "
   ]
  },
  {
   "cell_type": "code",
   "execution_count": null,
   "id": "cd6fb4cf",
   "metadata": {},
   "outputs": [],
   "source": []
  }
 ],
 "metadata": {
  "kernelspec": {
   "display_name": "Python 3 (ipykernel)",
   "language": "python",
   "name": "python3"
  },
  "language_info": {
   "codemirror_mode": {
    "name": "ipython",
    "version": 3
   },
   "file_extension": ".py",
   "mimetype": "text/x-python",
   "name": "python",
   "nbconvert_exporter": "python",
   "pygments_lexer": "ipython3",
   "version": "3.11.4"
  }
 },
 "nbformat": 4,
 "nbformat_minor": 5
}

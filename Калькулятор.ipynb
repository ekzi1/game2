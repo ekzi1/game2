{
 "cells": [
  {
   "cell_type": "code",
   "execution_count": 1,
   "id": "444febb0",
   "metadata": {},
   "outputs": [
    {
     "name": "stdout",
     "output_type": "stream",
     "text": [
      "пять умножить одиннадцать\n",
      "пятьдесят пять\n"
     ]
    }
   ],
   "source": [
    "def calc(expression):\n",
    "    numbers = {\n",
    "        \"ноль\": 0,\n",
    "        \"один\": 1,\n",
    "        \"два\": 2,\n",
    "        \"три\": 3,\n",
    "        \"четыре\": 4,\n",
    "        \"пять\": 5,\n",
    "        \"шесть\": 6,\n",
    "        \"семь\": 7,\n",
    "        \"восемь\": 8,\n",
    "        \"девять\": 9,\n",
    "        \"десять\": 10,\n",
    "        \"одиннадцать\": 11,\n",
    "        \"двенадцать\": 12,\n",
    "        \"тринадцать\": 13,\n",
    "        \"четырнадцать\": 14,\n",
    "        \"пятнадцать\": 15,\n",
    "        \"шестнадцать\": 16,\n",
    "        \"семнадцать\": 17,\n",
    "        \"восемнадцать\": 18,\n",
    "        \"девятнадцать\": 19,\n",
    "        \"двадцать\": 20,\n",
    "        \"тридцать\": 30,\n",
    "        \"сорок\": 40,\n",
    "        \"пятьдесят\": 50,\n",
    "        \"шестьдесят\": 60,\n",
    "        \"семьдесят\": 70,\n",
    "        \"восемьдесят\": 80,\n",
    "        \"девяносто\": 90,\n",
    "    }\n",
    "    words = expression.split()\n",
    "    operand = ['плюс','минус','умножить','разделить']\n",
    "    if len(words)==3:\n",
    "        num1 = numbers[words[0]]\n",
    "        num2 = numbers[words[2]]\n",
    "        oper = words[1]\n",
    "    elif len(words)==4:\n",
    "        if words[1] in operand:\n",
    "            num1 = numbers[words[0]]\n",
    "            num2 = numbers[words[2]]+numbers[words[3]]\n",
    "            oper = words[1]\n",
    "        else:\n",
    "            num1 = numbers[words[0]]+numbers[words[1]]\n",
    "            num2 = numbers[words[3]]\n",
    "            oper = words[2]\n",
    "    else:\n",
    "        num1 = numbers[words[0]] + numbers[words[1]]\n",
    "        num2 = numbers[words[3]] + numbers[words[4]]\n",
    "        oper = words[2]\n",
    "    if oper == 'плюс':\n",
    "        result = num1 + num2\n",
    "    elif oper == 'минус':\n",
    "        result = num1 - num2\n",
    "    elif oper == 'умножить':\n",
    "        result = num1 * num2\n",
    "    elif oper == 'разделить':\n",
    "        result = num1 / num2\n",
    "\n",
    "    res = ''\n",
    "    for word, number in numbers.items().__reversed__():\n",
    "        if number == result:\n",
    "            return word\n",
    "        elif number == result - (result % 10):\n",
    "            res += word + ' '\n",
    "        elif number == result % 10:\n",
    "            res += word\n",
    "    return res\n",
    "x = input()\n",
    "calc(x)\n",
    "print(calc(x))"
   ]
  },
  {
   "cell_type": "code",
   "execution_count": null,
   "id": "7c25c7eb",
   "metadata": {},
   "outputs": [],
   "source": []
  }
 ],
 "metadata": {
  "kernelspec": {
   "display_name": "Python 3 (ipykernel)",
   "language": "python",
   "name": "python3"
  },
  "language_info": {
   "codemirror_mode": {
    "name": "ipython",
    "version": 3
   },
   "file_extension": ".py",
   "mimetype": "text/x-python",
   "name": "python",
   "nbconvert_exporter": "python",
   "pygments_lexer": "ipython3",
   "version": "3.11.4"
  }
 },
 "nbformat": 4,
 "nbformat_minor": 5
}
